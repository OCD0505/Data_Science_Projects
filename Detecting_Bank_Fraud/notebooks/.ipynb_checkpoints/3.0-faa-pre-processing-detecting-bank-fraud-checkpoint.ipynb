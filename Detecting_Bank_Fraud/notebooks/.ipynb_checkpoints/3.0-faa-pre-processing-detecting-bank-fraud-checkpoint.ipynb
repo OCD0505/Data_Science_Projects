{
 "cells": [
  {
   "cell_type": "markdown",
   "id": "a121f26d",
   "metadata": {},
   "source": [
    "# 3 Pre-processing & Training Data Development <a id='3_Pre-processing_&_training_data_development'></a>\n",
    "---"
   ]
  },
  {
   "cell_type": "markdown",
   "id": "d814309c",
   "metadata": {},
   "source": [
    "## 3.1 Contents <a id='31-contents'></a>\n",
    "\n",
    "- [3.1 Contents](#31-contents)\n",
    "- [3.2 Introduction](#32-introduction)\n",
    "- [3.3 Imports](#33-imports)\n",
    "- [3.4 Load The Data](#34-load-the-data)\n",
    "- [3.5 Data Cleaning](#35_Data_cleaning)\n",
    "    - [3.5.1 Imputing Missing/Removing Values](#351-imputing-missing-values)\n",
    "- [3.6 Train/Test Split](#36-traintest-split)\n",
    "- [3.7 Encoding Categorical Features](#37-encoding-categorical-features)\n",
    "- [3.8 Scale the Data](#38-scale-the-data)\n",
    "- [3.9 Train/Predict with a \"Baseline Model\"](#39-trainpredict-with-a-baseline-model)\n",
    "- [3.10 Setting up Pipelines](#310-setting-up-pipelines)\n",
    "- [3.11 Fit/Train/Predict and Assess Models ](#\"3102-fit-train-predict-and-assess)\n",
    "- [3.12 Final Model Selection](#314-final-model-selection)\n",
    "- [3.13 Conclusion](#315-conclusion)"
   ]
  },
  {
   "cell_type": "markdown",
   "id": "6be3280a",
   "metadata": {},
   "source": [
    "## 3.2 Introduction <a id='32-introduction'></a>"
   ]
  },
  {
   "cell_type": "markdown",
   "id": "42dd3a96",
   "metadata": {},
   "source": []
  }
 ],
 "metadata": {
  "kernelspec": {
   "display_name": "Python 3 (ipykernel)",
   "language": "python",
   "name": "python3"
  },
  "language_info": {
   "codemirror_mode": {
    "name": "ipython",
    "version": 3
   },
   "file_extension": ".py",
   "mimetype": "text/x-python",
   "name": "python",
   "nbconvert_exporter": "python",
   "pygments_lexer": "ipython3",
   "version": "3.10.13"
  }
 },
 "nbformat": 4,
 "nbformat_minor": 5
}
