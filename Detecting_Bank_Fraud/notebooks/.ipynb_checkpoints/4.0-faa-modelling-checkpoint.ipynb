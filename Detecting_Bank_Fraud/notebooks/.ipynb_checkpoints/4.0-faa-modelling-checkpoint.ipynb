{
 "cells": [
  {
   "cell_type": "markdown",
   "id": "bddcbdf0",
   "metadata": {},
   "source": [
    "   - Evaluate if log transformations of transaction amounts help in normalizing the skewness for machine learning models.\n",
    "   \n",
    "   - Evaluate alternative evaluation metrics (precision, recall, F1-score, AUC-ROC) to assess the model’s ability to correctly identify fraud despite the class imbalance.\n"
   ]
  }
 ],
 "metadata": {
  "kernelspec": {
   "display_name": "Python 3 (ipykernel)",
   "language": "python",
   "name": "python3"
  },
  "language_info": {
   "codemirror_mode": {
    "name": "ipython",
    "version": 3
   },
   "file_extension": ".py",
   "mimetype": "text/x-python",
   "name": "python",
   "nbconvert_exporter": "python",
   "pygments_lexer": "ipython3",
   "version": "3.10.13"
  }
 },
 "nbformat": 4,
 "nbformat_minor": 5
}
