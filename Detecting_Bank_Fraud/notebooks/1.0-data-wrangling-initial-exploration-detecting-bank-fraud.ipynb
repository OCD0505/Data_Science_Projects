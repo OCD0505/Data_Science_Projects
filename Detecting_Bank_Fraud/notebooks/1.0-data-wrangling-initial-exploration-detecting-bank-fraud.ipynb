{
 "cells": [
  {
   "cell_type": "markdown",
   "id": "6a249fda",
   "metadata": {},
   "source": [
    "\n",
    "# 1 Data Wrangling <a id='1_Data_Wrangling'></a>\n",
    "---"
   ]
  },
  {
   "cell_type": "markdown",
   "id": "140098ad",
   "metadata": {},
   "source": [
    "## 1.1 Contents <a id='1.1_Contents'></a>"
   ]
  },
  {
   "cell_type": "markdown",
   "id": "e5418389",
   "metadata": {},
   "source": [
    "- [1 Data Wrangling](#1_Data_Wrangling)\n",
    "    - [1.1 Contents](#1.1_Contents)\n",
    "    - [1.2 Introduction](#1.2_Introduction)\n",
    "    - [1.3 Importing](#1.3_Importing)\n",
    "    - [1.4 Loading The Data](#1.4_Loading_the_data)\n",
    "- [1.5 Preliminary Cleaning/Preparation](#1.5_Preliminary_exploration)\n",
    "    - [1.5.1 Missing Values](#1.5.1_Missing_values)\n",
    "    - [1.5.2 Correlation](#1.5.2_Correlation)\n",
    "    - [1.5.3 Histograms](#1.5.3_Histograms)\n",
    "    - [1.5.4 Duplicate Values](#1.5.4_Duplicate_values)\n",
    "    - [1.5.5 Dropping Columns](#1.5.5_Dropping_columns)\n",
    "    - [1.5.6 Imputation](#1.5.6_Imputation)\n",
    "    - [1.5.7 Data Type Conversions](#1.5.7_Conversion)\n",
    "    - [1.5.8 Misc Data Issues & Notes](#1.5.8_Data_Notes)\n",
    "- [1.6 A Look Into Categorical Features](#1.6_Categorical_Features)\n",
    "    - [1.6.1 Encoding](#1.6.1_Encoding)\n",
    "- [1.7 A Look Into Numerical Features](#1.7_Numerical_Features) \n",
    "    - [1.7.1 Outliers](#1.7.1_Outliers)\n",
    "    - [1.7.2 Normalization/Standardization](#1.7.2_Normalization_Standardization)\n",
    "    - [1.7.3 Target Feature](#1.7.3_Target_Feature)\n",
    "- [1.8 Save the Data](#1.8_Save_data)\n",
    "- [1.9 Summary](#1.9_Summary)"
   ]
  },
  {
   "cell_type": "markdown",
   "id": "b64f9958",
   "metadata": {},
   "source": [
    "## 1.2 Introduction <a id='1.2_Introduction'></a>"
   ]
  },
  {
   "cell_type": "markdown",
   "id": "6e01b30d",
   "metadata": {},
   "source": [
    "#### **Purpose:**\n",
    "This notebook focuses on preliminary data cleaning, exploration and defining the initial predictive model goals. \n",
    "\n",
    "#### **Problem Statement:**\n",
    "\n",
    "Develop a machine learning model to accurately predict fraudulent transactions with at least 90% precision and 85% recall, using transaction data and account balances, to reduce fraud detection errors."
   ]
  },
  {
   "cell_type": "markdown",
   "id": "bea32dcf",
   "metadata": {},
   "source": [
    "## 1.3 Importing <a id='1.3_Importing'></a>"
   ]
  },
  {
   "cell_type": "code",
   "execution_count": 1,
   "id": "0108883d",
   "metadata": {},
   "outputs": [],
   "source": [
    "import pandas as pd\n",
    "import numpy as np\n",
    "import matplotlib.pyplot as plt\n",
    "import seaborn as sns\n",
    "from datetime import datetime\n",
    "import os"
   ]
  },
  {
   "cell_type": "markdown",
   "id": "a6dd4825",
   "metadata": {},
   "source": [
    "## 1.4 Loading The Data <a id='1.4_Loading_the_data'></a>"
   ]
  },
  {
   "cell_type": "markdown",
   "id": "f78899e5",
   "metadata": {},
   "source": [
    "Data Source: https://www.kaggle.com/datasets/sriharshaeedala/financial-fraud-detection-dataset"
   ]
  },
  {
   "cell_type": "code",
   "execution_count": 2,
   "id": "a11149e2",
   "metadata": {},
   "outputs": [],
   "source": [
    "# Storing file path \n",
    "DataFilePath = \"/Users/frankyaraujo/Development/Data_Science_Projects/Detecting_Bank_Fraud/data/raw\"\n",
    "# Storing filename\n",
    "Filename = \"/Fraud.csv\"\n",
    "\n",
    "# Load the data into DataFrame\n",
    "BankData = pd.read_csv(DataFilePath+Filename, low_memory = False)"
   ]
  },
  {
   "cell_type": "markdown",
   "id": "01a3dc4e",
   "metadata": {},
   "source": [
    "## 1.5 Preliminary Exploration <a id='1.5_Preliminary_exploration'></a>"
   ]
  },
  {
   "cell_type": "code",
   "execution_count": 3,
   "id": "6cc07723",
   "metadata": {},
   "outputs": [
    {
     "name": "stdout",
     "output_type": "stream",
     "text": [
      "<class 'pandas.core.frame.DataFrame'>\n",
      "RangeIndex: 6362620 entries, 0 to 6362619\n",
      "Data columns (total 10 columns):\n",
      " #   Column          Dtype  \n",
      "---  ------          -----  \n",
      " 0   step            int64  \n",
      " 1   type            object \n",
      " 2   amount          float64\n",
      " 3   nameOrig        object \n",
      " 4   oldbalanceOrg   float64\n",
      " 5   newbalanceOrig  float64\n",
      " 6   nameDest        object \n",
      " 7   oldbalanceDest  float64\n",
      " 8   newbalanceDest  float64\n",
      " 9   isFraud         int64  \n",
      "dtypes: float64(5), int64(2), object(3)\n",
      "memory usage: 485.4+ MB\n"
     ]
    }
   ],
   "source": [
    "# Overview of data columns, size and data types\n",
    "\n",
    "BankData.info()"
   ]
  },
  {
   "cell_type": "code",
   "execution_count": 4,
   "id": "5705f2cf",
   "metadata": {
    "scrolled": true
   },
   "outputs": [
    {
     "data": {
      "text/html": [
       "<div>\n",
       "<style scoped>\n",
       "    .dataframe tbody tr th:only-of-type {\n",
       "        vertical-align: middle;\n",
       "    }\n",
       "\n",
       "    .dataframe tbody tr th {\n",
       "        vertical-align: top;\n",
       "    }\n",
       "\n",
       "    .dataframe thead th {\n",
       "        text-align: right;\n",
       "    }\n",
       "</style>\n",
       "<table border=\"1\" class=\"dataframe\">\n",
       "  <thead>\n",
       "    <tr style=\"text-align: right;\">\n",
       "      <th></th>\n",
       "      <th>step</th>\n",
       "      <th>type</th>\n",
       "      <th>amount</th>\n",
       "      <th>nameOrig</th>\n",
       "      <th>oldbalanceOrg</th>\n",
       "      <th>newbalanceOrig</th>\n",
       "      <th>nameDest</th>\n",
       "      <th>oldbalanceDest</th>\n",
       "      <th>newbalanceDest</th>\n",
       "      <th>isFraud</th>\n",
       "    </tr>\n",
       "  </thead>\n",
       "  <tbody>\n",
       "    <tr>\n",
       "      <th>0</th>\n",
       "      <td>1</td>\n",
       "      <td>PAYMENT</td>\n",
       "      <td>9839.64</td>\n",
       "      <td>C1231006815</td>\n",
       "      <td>170136.00</td>\n",
       "      <td>160296.36</td>\n",
       "      <td>M1979787155</td>\n",
       "      <td>0.0</td>\n",
       "      <td>0.00</td>\n",
       "      <td>0</td>\n",
       "    </tr>\n",
       "    <tr>\n",
       "      <th>1</th>\n",
       "      <td>1</td>\n",
       "      <td>PAYMENT</td>\n",
       "      <td>1864.28</td>\n",
       "      <td>C1666544295</td>\n",
       "      <td>21249.00</td>\n",
       "      <td>19384.72</td>\n",
       "      <td>M2044282225</td>\n",
       "      <td>0.0</td>\n",
       "      <td>0.00</td>\n",
       "      <td>0</td>\n",
       "    </tr>\n",
       "    <tr>\n",
       "      <th>2</th>\n",
       "      <td>1</td>\n",
       "      <td>TRANSFER</td>\n",
       "      <td>181.00</td>\n",
       "      <td>C1305486145</td>\n",
       "      <td>181.00</td>\n",
       "      <td>0.00</td>\n",
       "      <td>C553264065</td>\n",
       "      <td>0.0</td>\n",
       "      <td>0.00</td>\n",
       "      <td>1</td>\n",
       "    </tr>\n",
       "    <tr>\n",
       "      <th>3</th>\n",
       "      <td>1</td>\n",
       "      <td>CASH_OUT</td>\n",
       "      <td>181.00</td>\n",
       "      <td>C840083671</td>\n",
       "      <td>181.00</td>\n",
       "      <td>0.00</td>\n",
       "      <td>C38997010</td>\n",
       "      <td>21182.0</td>\n",
       "      <td>0.00</td>\n",
       "      <td>1</td>\n",
       "    </tr>\n",
       "    <tr>\n",
       "      <th>4</th>\n",
       "      <td>1</td>\n",
       "      <td>PAYMENT</td>\n",
       "      <td>11668.14</td>\n",
       "      <td>C2048537720</td>\n",
       "      <td>41554.00</td>\n",
       "      <td>29885.86</td>\n",
       "      <td>M1230701703</td>\n",
       "      <td>0.0</td>\n",
       "      <td>0.00</td>\n",
       "      <td>0</td>\n",
       "    </tr>\n",
       "    <tr>\n",
       "      <th>5</th>\n",
       "      <td>1</td>\n",
       "      <td>PAYMENT</td>\n",
       "      <td>7817.71</td>\n",
       "      <td>C90045638</td>\n",
       "      <td>53860.00</td>\n",
       "      <td>46042.29</td>\n",
       "      <td>M573487274</td>\n",
       "      <td>0.0</td>\n",
       "      <td>0.00</td>\n",
       "      <td>0</td>\n",
       "    </tr>\n",
       "    <tr>\n",
       "      <th>6</th>\n",
       "      <td>1</td>\n",
       "      <td>PAYMENT</td>\n",
       "      <td>7107.77</td>\n",
       "      <td>C154988899</td>\n",
       "      <td>183195.00</td>\n",
       "      <td>176087.23</td>\n",
       "      <td>M408069119</td>\n",
       "      <td>0.0</td>\n",
       "      <td>0.00</td>\n",
       "      <td>0</td>\n",
       "    </tr>\n",
       "    <tr>\n",
       "      <th>7</th>\n",
       "      <td>1</td>\n",
       "      <td>PAYMENT</td>\n",
       "      <td>7861.64</td>\n",
       "      <td>C1912850431</td>\n",
       "      <td>176087.23</td>\n",
       "      <td>168225.59</td>\n",
       "      <td>M633326333</td>\n",
       "      <td>0.0</td>\n",
       "      <td>0.00</td>\n",
       "      <td>0</td>\n",
       "    </tr>\n",
       "    <tr>\n",
       "      <th>8</th>\n",
       "      <td>1</td>\n",
       "      <td>PAYMENT</td>\n",
       "      <td>4024.36</td>\n",
       "      <td>C1265012928</td>\n",
       "      <td>2671.00</td>\n",
       "      <td>0.00</td>\n",
       "      <td>M1176932104</td>\n",
       "      <td>0.0</td>\n",
       "      <td>0.00</td>\n",
       "      <td>0</td>\n",
       "    </tr>\n",
       "    <tr>\n",
       "      <th>9</th>\n",
       "      <td>1</td>\n",
       "      <td>DEBIT</td>\n",
       "      <td>5337.77</td>\n",
       "      <td>C712410124</td>\n",
       "      <td>41720.00</td>\n",
       "      <td>36382.23</td>\n",
       "      <td>C195600860</td>\n",
       "      <td>41898.0</td>\n",
       "      <td>40348.79</td>\n",
       "      <td>0</td>\n",
       "    </tr>\n",
       "    <tr>\n",
       "      <th>10</th>\n",
       "      <td>1</td>\n",
       "      <td>DEBIT</td>\n",
       "      <td>9644.94</td>\n",
       "      <td>C1900366749</td>\n",
       "      <td>4465.00</td>\n",
       "      <td>0.00</td>\n",
       "      <td>C997608398</td>\n",
       "      <td>10845.0</td>\n",
       "      <td>157982.12</td>\n",
       "      <td>0</td>\n",
       "    </tr>\n",
       "    <tr>\n",
       "      <th>11</th>\n",
       "      <td>1</td>\n",
       "      <td>PAYMENT</td>\n",
       "      <td>3099.97</td>\n",
       "      <td>C249177573</td>\n",
       "      <td>20771.00</td>\n",
       "      <td>17671.03</td>\n",
       "      <td>M2096539129</td>\n",
       "      <td>0.0</td>\n",
       "      <td>0.00</td>\n",
       "      <td>0</td>\n",
       "    </tr>\n",
       "    <tr>\n",
       "      <th>12</th>\n",
       "      <td>1</td>\n",
       "      <td>PAYMENT</td>\n",
       "      <td>2560.74</td>\n",
       "      <td>C1648232591</td>\n",
       "      <td>5070.00</td>\n",
       "      <td>2509.26</td>\n",
       "      <td>M972865270</td>\n",
       "      <td>0.0</td>\n",
       "      <td>0.00</td>\n",
       "      <td>0</td>\n",
       "    </tr>\n",
       "    <tr>\n",
       "      <th>13</th>\n",
       "      <td>1</td>\n",
       "      <td>PAYMENT</td>\n",
       "      <td>11633.76</td>\n",
       "      <td>C1716932897</td>\n",
       "      <td>10127.00</td>\n",
       "      <td>0.00</td>\n",
       "      <td>M801569151</td>\n",
       "      <td>0.0</td>\n",
       "      <td>0.00</td>\n",
       "      <td>0</td>\n",
       "    </tr>\n",
       "    <tr>\n",
       "      <th>14</th>\n",
       "      <td>1</td>\n",
       "      <td>PAYMENT</td>\n",
       "      <td>4098.78</td>\n",
       "      <td>C1026483832</td>\n",
       "      <td>503264.00</td>\n",
       "      <td>499165.22</td>\n",
       "      <td>M1635378213</td>\n",
       "      <td>0.0</td>\n",
       "      <td>0.00</td>\n",
       "      <td>0</td>\n",
       "    </tr>\n",
       "    <tr>\n",
       "      <th>15</th>\n",
       "      <td>1</td>\n",
       "      <td>CASH_OUT</td>\n",
       "      <td>229133.94</td>\n",
       "      <td>C905080434</td>\n",
       "      <td>15325.00</td>\n",
       "      <td>0.00</td>\n",
       "      <td>C476402209</td>\n",
       "      <td>5083.0</td>\n",
       "      <td>51513.44</td>\n",
       "      <td>0</td>\n",
       "    </tr>\n",
       "    <tr>\n",
       "      <th>16</th>\n",
       "      <td>1</td>\n",
       "      <td>PAYMENT</td>\n",
       "      <td>1563.82</td>\n",
       "      <td>C761750706</td>\n",
       "      <td>450.00</td>\n",
       "      <td>0.00</td>\n",
       "      <td>M1731217984</td>\n",
       "      <td>0.0</td>\n",
       "      <td>0.00</td>\n",
       "      <td>0</td>\n",
       "    </tr>\n",
       "    <tr>\n",
       "      <th>17</th>\n",
       "      <td>1</td>\n",
       "      <td>PAYMENT</td>\n",
       "      <td>1157.86</td>\n",
       "      <td>C1237762639</td>\n",
       "      <td>21156.00</td>\n",
       "      <td>19998.14</td>\n",
       "      <td>M1877062907</td>\n",
       "      <td>0.0</td>\n",
       "      <td>0.00</td>\n",
       "      <td>0</td>\n",
       "    </tr>\n",
       "    <tr>\n",
       "      <th>18</th>\n",
       "      <td>1</td>\n",
       "      <td>PAYMENT</td>\n",
       "      <td>671.64</td>\n",
       "      <td>C2033524545</td>\n",
       "      <td>15123.00</td>\n",
       "      <td>14451.36</td>\n",
       "      <td>M473053293</td>\n",
       "      <td>0.0</td>\n",
       "      <td>0.00</td>\n",
       "      <td>0</td>\n",
       "    </tr>\n",
       "    <tr>\n",
       "      <th>19</th>\n",
       "      <td>1</td>\n",
       "      <td>TRANSFER</td>\n",
       "      <td>215310.30</td>\n",
       "      <td>C1670993182</td>\n",
       "      <td>705.00</td>\n",
       "      <td>0.00</td>\n",
       "      <td>C1100439041</td>\n",
       "      <td>22425.0</td>\n",
       "      <td>0.00</td>\n",
       "      <td>0</td>\n",
       "    </tr>\n",
       "  </tbody>\n",
       "</table>\n",
       "</div>"
      ],
      "text/plain": [
       "    step      type     amount     nameOrig  oldbalanceOrg  newbalanceOrig  \\\n",
       "0      1   PAYMENT    9839.64  C1231006815      170136.00       160296.36   \n",
       "1      1   PAYMENT    1864.28  C1666544295       21249.00        19384.72   \n",
       "2      1  TRANSFER     181.00  C1305486145         181.00            0.00   \n",
       "3      1  CASH_OUT     181.00   C840083671         181.00            0.00   \n",
       "4      1   PAYMENT   11668.14  C2048537720       41554.00        29885.86   \n",
       "5      1   PAYMENT    7817.71    C90045638       53860.00        46042.29   \n",
       "6      1   PAYMENT    7107.77   C154988899      183195.00       176087.23   \n",
       "7      1   PAYMENT    7861.64  C1912850431      176087.23       168225.59   \n",
       "8      1   PAYMENT    4024.36  C1265012928        2671.00            0.00   \n",
       "9      1     DEBIT    5337.77   C712410124       41720.00        36382.23   \n",
       "10     1     DEBIT    9644.94  C1900366749        4465.00            0.00   \n",
       "11     1   PAYMENT    3099.97   C249177573       20771.00        17671.03   \n",
       "12     1   PAYMENT    2560.74  C1648232591        5070.00         2509.26   \n",
       "13     1   PAYMENT   11633.76  C1716932897       10127.00            0.00   \n",
       "14     1   PAYMENT    4098.78  C1026483832      503264.00       499165.22   \n",
       "15     1  CASH_OUT  229133.94   C905080434       15325.00            0.00   \n",
       "16     1   PAYMENT    1563.82   C761750706         450.00            0.00   \n",
       "17     1   PAYMENT    1157.86  C1237762639       21156.00        19998.14   \n",
       "18     1   PAYMENT     671.64  C2033524545       15123.00        14451.36   \n",
       "19     1  TRANSFER  215310.30  C1670993182         705.00            0.00   \n",
       "\n",
       "       nameDest  oldbalanceDest  newbalanceDest  isFraud  \n",
       "0   M1979787155             0.0            0.00        0  \n",
       "1   M2044282225             0.0            0.00        0  \n",
       "2    C553264065             0.0            0.00        1  \n",
       "3     C38997010         21182.0            0.00        1  \n",
       "4   M1230701703             0.0            0.00        0  \n",
       "5    M573487274             0.0            0.00        0  \n",
       "6    M408069119             0.0            0.00        0  \n",
       "7    M633326333             0.0            0.00        0  \n",
       "8   M1176932104             0.0            0.00        0  \n",
       "9    C195600860         41898.0        40348.79        0  \n",
       "10   C997608398         10845.0       157982.12        0  \n",
       "11  M2096539129             0.0            0.00        0  \n",
       "12   M972865270             0.0            0.00        0  \n",
       "13   M801569151             0.0            0.00        0  \n",
       "14  M1635378213             0.0            0.00        0  \n",
       "15   C476402209          5083.0        51513.44        0  \n",
       "16  M1731217984             0.0            0.00        0  \n",
       "17  M1877062907             0.0            0.00        0  \n",
       "18   M473053293             0.0            0.00        0  \n",
       "19  C1100439041         22425.0            0.00        0  "
      ]
     },
     "execution_count": 4,
     "metadata": {},
     "output_type": "execute_result"
    }
   ],
   "source": [
    "# Snippet of actual data to view the initial values \n",
    "\n",
    "BankData.head(20)"
   ]
  },
  {
   "cell_type": "markdown",
   "id": "4bd46424",
   "metadata": {},
   "source": [
    "##### Initial observations:\n",
    "**Context**:\n",
    "\n",
    "Data Column Dictionary:\n",
    "\n",
    "- step - maps a unit of time in the real world. In this case 1 \n",
    "step is 1 hour of time. Total steps 744 (30 days simulation).\n",
    "\n",
    "- type - CASH-IN, CASH-OUT, DEBIT, PAYMENT and TRANSFER.\n",
    "    - CASH-IN: Refers to the process of adding funds to an account or receiving money. This could involve depositing cash into a bank account, receiving funds through a digital wallet, or any other way of increasing the balance of an account.\n",
    "\n",
    "    - CASH-OUT: Refers to the process of withdrawing money from an account. This could involve withdrawing cash from an ATM, transferring funds out of a digital wallet, or any other means of reducing the account balance.\n",
    "\n",
    "    - DEBIT: A transaction that decreases the balance of an account, typically involving the use of a debit card, or it could refer to any deduction from a bank account or ledger (such as an expense or a withdrawal).\n",
    "\n",
    "    - PAYMENT: A transfer of money from one party to another to settle a debt or complete a transaction. Payments can be made using various methods, including cash, credit or debit cards, bank transfers, or digital payments.\n",
    "\n",
    "    - TRANSFER: The movement of funds from one account to another, which could involve different banks, institutions, or accounts. Transfers can be internal (within the same bank) or external (to a different bank or institution).\n",
    "\n",
    "- amount - amount of the transaction in local currency.\n",
    "\n",
    "- nameOrig - customer who started the transaction\n",
    "\n",
    "- oldbalanceOrg - initial balance before the transaction\n",
    "\n",
    "- newbalanceOrig - new balance after the transaction\n",
    "\n",
    "- nameDest - customer who is the recipient of the transaction\n",
    "\n",
    "- oldbalanceDest - initial balance recipient before the \n",
    "transaction. Note that there is not information for customers \n",
    "that start with M (Merchants).\n",
    "\n",
    "- newbalanceDest - new balance recipient after the transaction. \n",
    "Note that there is not information for customers that start \n",
    "with M (Merchants).\n",
    "\n",
    "- isFraud - This is the transactions made by the fraudulent \n",
    "agents inside the simulation. In this specific dataset the \n",
    "fraudulent behavior of the agents aims to profit by taking \n",
    "control or customers accounts and try to empty the funds by \n",
    "transferring to another account and then cashing out of the \n",
    "system.\n"
   ]
  },
  {
   "cell_type": "markdown",
   "id": "83669b64",
   "metadata": {},
   "source": [
    "### 1.5.1 Missing Values <a id='1.5.1_Missing_values'></a>"
   ]
  },
  {
   "cell_type": "code",
   "execution_count": 5,
   "id": "48dc56a3",
   "metadata": {},
   "outputs": [],
   "source": [
    "# The number of missing values per column\n",
    "\n",
    "BankData.isna().sum()\n",
    "BankDataMissing = pd.DataFrame(BankData.isna().sum())\n",
    "BankDataMissing.columns = ['Total # of missing values']"
   ]
  },
  {
   "cell_type": "code",
   "execution_count": 6,
   "id": "79d8696f",
   "metadata": {},
   "outputs": [],
   "source": [
    "# The percentage of missing values per column, sorted from highest to lowest\n",
    "\n",
    "BankDataMissing['% of missing values'] = BankData.isna().sum().sort_values(ascending = False)/len(BankData.index)*100"
   ]
  },
  {
   "cell_type": "code",
   "execution_count": 7,
   "id": "040e1094",
   "metadata": {
    "scrolled": false
   },
   "outputs": [
    {
     "data": {
      "text/html": [
       "<div>\n",
       "<style scoped>\n",
       "    .dataframe tbody tr th:only-of-type {\n",
       "        vertical-align: middle;\n",
       "    }\n",
       "\n",
       "    .dataframe tbody tr th {\n",
       "        vertical-align: top;\n",
       "    }\n",
       "\n",
       "    .dataframe thead th {\n",
       "        text-align: right;\n",
       "    }\n",
       "</style>\n",
       "<table border=\"1\" class=\"dataframe\">\n",
       "  <thead>\n",
       "    <tr style=\"text-align: right;\">\n",
       "      <th></th>\n",
       "      <th>Total # of missing values</th>\n",
       "      <th>% of missing values</th>\n",
       "    </tr>\n",
       "  </thead>\n",
       "  <tbody>\n",
       "    <tr>\n",
       "      <th>step</th>\n",
       "      <td>0</td>\n",
       "      <td>0.0</td>\n",
       "    </tr>\n",
       "    <tr>\n",
       "      <th>type</th>\n",
       "      <td>0</td>\n",
       "      <td>0.0</td>\n",
       "    </tr>\n",
       "    <tr>\n",
       "      <th>amount</th>\n",
       "      <td>0</td>\n",
       "      <td>0.0</td>\n",
       "    </tr>\n",
       "    <tr>\n",
       "      <th>nameOrig</th>\n",
       "      <td>0</td>\n",
       "      <td>0.0</td>\n",
       "    </tr>\n",
       "    <tr>\n",
       "      <th>oldbalanceOrg</th>\n",
       "      <td>0</td>\n",
       "      <td>0.0</td>\n",
       "    </tr>\n",
       "    <tr>\n",
       "      <th>newbalanceOrig</th>\n",
       "      <td>0</td>\n",
       "      <td>0.0</td>\n",
       "    </tr>\n",
       "    <tr>\n",
       "      <th>nameDest</th>\n",
       "      <td>0</td>\n",
       "      <td>0.0</td>\n",
       "    </tr>\n",
       "    <tr>\n",
       "      <th>oldbalanceDest</th>\n",
       "      <td>0</td>\n",
       "      <td>0.0</td>\n",
       "    </tr>\n",
       "    <tr>\n",
       "      <th>newbalanceDest</th>\n",
       "      <td>0</td>\n",
       "      <td>0.0</td>\n",
       "    </tr>\n",
       "    <tr>\n",
       "      <th>isFraud</th>\n",
       "      <td>0</td>\n",
       "      <td>0.0</td>\n",
       "    </tr>\n",
       "  </tbody>\n",
       "</table>\n",
       "</div>"
      ],
      "text/plain": [
       "                Total # of missing values  % of missing values\n",
       "step                                    0                  0.0\n",
       "type                                    0                  0.0\n",
       "amount                                  0                  0.0\n",
       "nameOrig                                0                  0.0\n",
       "oldbalanceOrg                           0                  0.0\n",
       "newbalanceOrig                          0                  0.0\n",
       "nameDest                                0                  0.0\n",
       "oldbalanceDest                          0                  0.0\n",
       "newbalanceDest                          0                  0.0\n",
       "isFraud                                 0                  0.0"
      ]
     },
     "execution_count": 7,
     "metadata": {},
     "output_type": "execute_result"
    }
   ],
   "source": [
    "# Number of missing values and percentages by column, sorted from highest to lowest\n",
    "\n",
    "BankDataMissing.sort_values(by = \"Total # of missing values\", ascending = False)"
   ]
  },
  {
   "cell_type": "markdown",
   "id": "d1d9cf2c",
   "metadata": {},
   "source": [
    "##### Notes on missing data\n",
    "\n",
    "The dataset is synthetic and constructed without any missing values."
   ]
  },
  {
   "cell_type": "markdown",
   "id": "03e148d8",
   "metadata": {},
   "source": [
    "### 1.5.2 Correlation <a id='1.5.2_Correlation'></a>\n"
   ]
  },
  {
   "cell_type": "markdown",
   "id": "00ea94ee",
   "metadata": {},
   "source": [
    "In this section, the correlation between variables will be explored. "
   ]
  },
  {
   "cell_type": "code",
   "execution_count": 8,
   "id": "5f79dfcc",
   "metadata": {},
   "outputs": [
    {
     "data": {
      "text/html": [
       "<div>\n",
       "<style scoped>\n",
       "    .dataframe tbody tr th:only-of-type {\n",
       "        vertical-align: middle;\n",
       "    }\n",
       "\n",
       "    .dataframe tbody tr th {\n",
       "        vertical-align: top;\n",
       "    }\n",
       "\n",
       "    .dataframe thead th {\n",
       "        text-align: right;\n",
       "    }\n",
       "</style>\n",
       "<table border=\"1\" class=\"dataframe\">\n",
       "  <thead>\n",
       "    <tr style=\"text-align: right;\">\n",
       "      <th></th>\n",
       "      <th>step</th>\n",
       "      <th>amount</th>\n",
       "      <th>oldbalanceOrg</th>\n",
       "      <th>newbalanceOrig</th>\n",
       "      <th>oldbalanceDest</th>\n",
       "      <th>newbalanceDest</th>\n",
       "      <th>isFraud</th>\n",
       "    </tr>\n",
       "  </thead>\n",
       "  <tbody>\n",
       "    <tr>\n",
       "      <th>step</th>\n",
       "      <td>1.000000</td>\n",
       "      <td>0.022373</td>\n",
       "      <td>-0.010058</td>\n",
       "      <td>-0.010299</td>\n",
       "      <td>0.027665</td>\n",
       "      <td>0.025888</td>\n",
       "      <td>0.031578</td>\n",
       "    </tr>\n",
       "    <tr>\n",
       "      <th>amount</th>\n",
       "      <td>0.022373</td>\n",
       "      <td>1.000000</td>\n",
       "      <td>-0.002762</td>\n",
       "      <td>-0.007861</td>\n",
       "      <td>0.294137</td>\n",
       "      <td>0.459304</td>\n",
       "      <td>0.076688</td>\n",
       "    </tr>\n",
       "    <tr>\n",
       "      <th>oldbalanceOrg</th>\n",
       "      <td>-0.010058</td>\n",
       "      <td>-0.002762</td>\n",
       "      <td>1.000000</td>\n",
       "      <td>0.998803</td>\n",
       "      <td>0.066243</td>\n",
       "      <td>0.042029</td>\n",
       "      <td>0.010154</td>\n",
       "    </tr>\n",
       "    <tr>\n",
       "      <th>newbalanceOrig</th>\n",
       "      <td>-0.010299</td>\n",
       "      <td>-0.007861</td>\n",
       "      <td>0.998803</td>\n",
       "      <td>1.000000</td>\n",
       "      <td>0.067812</td>\n",
       "      <td>0.041837</td>\n",
       "      <td>-0.008148</td>\n",
       "    </tr>\n",
       "    <tr>\n",
       "      <th>oldbalanceDest</th>\n",
       "      <td>0.027665</td>\n",
       "      <td>0.294137</td>\n",
       "      <td>0.066243</td>\n",
       "      <td>0.067812</td>\n",
       "      <td>1.000000</td>\n",
       "      <td>0.976569</td>\n",
       "      <td>-0.005885</td>\n",
       "    </tr>\n",
       "    <tr>\n",
       "      <th>newbalanceDest</th>\n",
       "      <td>0.025888</td>\n",
       "      <td>0.459304</td>\n",
       "      <td>0.042029</td>\n",
       "      <td>0.041837</td>\n",
       "      <td>0.976569</td>\n",
       "      <td>1.000000</td>\n",
       "      <td>0.000535</td>\n",
       "    </tr>\n",
       "    <tr>\n",
       "      <th>isFraud</th>\n",
       "      <td>0.031578</td>\n",
       "      <td>0.076688</td>\n",
       "      <td>0.010154</td>\n",
       "      <td>-0.008148</td>\n",
       "      <td>-0.005885</td>\n",
       "      <td>0.000535</td>\n",
       "      <td>1.000000</td>\n",
       "    </tr>\n",
       "  </tbody>\n",
       "</table>\n",
       "</div>"
      ],
      "text/plain": [
       "                    step    amount  oldbalanceOrg  newbalanceOrig  \\\n",
       "step            1.000000  0.022373      -0.010058       -0.010299   \n",
       "amount          0.022373  1.000000      -0.002762       -0.007861   \n",
       "oldbalanceOrg  -0.010058 -0.002762       1.000000        0.998803   \n",
       "newbalanceOrig -0.010299 -0.007861       0.998803        1.000000   \n",
       "oldbalanceDest  0.027665  0.294137       0.066243        0.067812   \n",
       "newbalanceDest  0.025888  0.459304       0.042029        0.041837   \n",
       "isFraud         0.031578  0.076688       0.010154       -0.008148   \n",
       "\n",
       "                oldbalanceDest  newbalanceDest   isFraud  \n",
       "step                  0.027665        0.025888  0.031578  \n",
       "amount                0.294137        0.459304  0.076688  \n",
       "oldbalanceOrg         0.066243        0.042029  0.010154  \n",
       "newbalanceOrig        0.067812        0.041837 -0.008148  \n",
       "oldbalanceDest        1.000000        0.976569 -0.005885  \n",
       "newbalanceDest        0.976569        1.000000  0.000535  \n",
       "isFraud              -0.005885        0.000535  1.000000  "
      ]
     },
     "execution_count": 8,
     "metadata": {},
     "output_type": "execute_result"
    }
   ],
   "source": [
    "# To begin, a correlation matrix will be generated\n",
    "\n",
    "correlation_matrix = BankData.select_dtypes(include=['number']).corr()\n",
    "correlation_matrix"
   ]
  },
  {
   "cell_type": "code",
   "execution_count": 9,
   "id": "c6b3494c",
   "metadata": {},
   "outputs": [
    {
     "data": {
      "image/png": "[encoded data removed]",
      "text/plain": [
       "<Figure size 640x480 with 2 Axes>"
      ]
     },
     "metadata": {},
     "output_type": "display_data"
    }
   ],
   "source": [
    "# To better visualize this, a heatmap will be used\n",
    "\n",
    "sns.heatmap(correlation_matrix, annot=True, cmap='coolwarm', vmin=-1, vmax=1)\n",
    "plt.show()"
   ]
  },
  {
   "cell_type": "markdown",
   "id": "fa2255e7",
   "metadata": {},
   "source": [
    "- The correlation of 'isFraud' with other variables is quite low, with the highest correlation being with 'amount' at 0.076688. This indicates a weak positive correlation, suggesting that larger transaction amounts may slightly increase the likelihood of fraud, but the relationship is not strong.\n",
    "\n",
    "- The correlations with other balance-related variables ('oldbalanceOrg', 'newbalanceOrig', 'oldbalanceDest', 'newbalanceDest') are very low (all below 0.01), indicating that these features do not have a significant linear relationship with the 'isFraud' variable.\n",
    "\n",
    "- 'amount' has a moderate positive correlation with both 'oldbalanceDest' (0.294137) and 'newbalanceDest' (0.459304). This suggests that as the transaction amount increases, the balances in the destination account tend to increase as well, which is expected behavior. 'oldbalanceOrg' and 'newbalanceOrig' have a very high positive correlation (0.998803), which suggests that they are likely highly similar or derived from the same feature, meaning you might want to consider if both need to be retained in a model. 'oldbalanceDest' and 'newbalanceDest' also have a very high correlation (0.976569), which indicates redundancy in the data.\n",
    "\n",
    "- Given the low correlation of most features with 'isFraud', it may be beneficial to explore additional features or data preprocessing techniques, such as creating interaction terms, transforming variables, or incorporating categorical features if applicable.\n",
    "\n",
    "- The high correlations among balance variables suggest that we might want to drop one of the redundant features (e.g., either 'oldbalanceOrg' or 'newbalanceOrig', and similarly for 'oldbalanceDest' and 'newbalanceDest') to avoid multicollinearity."
   ]
  },
  {
   "cell_type": "markdown",
   "id": "af970965",
   "metadata": {},
   "source": [
    "### 1.5.3 Histograms <a id='1.5.3_Histograms'></a>"
   ]
  },
  {
   "cell_type": "markdown",
   "id": "00f2d511",
   "metadata": {},
   "source": [
    "Before moving on, let's take a look at the distributions of the variables using histograms."
   ]
  },
  {
   "cell_type": "code",
   "execution_count": 10,
   "id": "7989e224",
   "metadata": {},
   "outputs": [
    {
     "data": {
      "text/html": [
       "<div>\n",
       "<style scoped>\n",
       "    .dataframe tbody tr th:only-of-type {\n",
       "        vertical-align: middle;\n",
       "    }\n",
       "\n",
       "    .dataframe tbody tr th {\n",
       "        vertical-align: top;\n",
       "    }\n",
       "\n",
       "    .dataframe thead th {\n",
       "        text-align: right;\n",
       "    }\n",
       "</style>\n",
       "<table border=\"1\" class=\"dataframe\">\n",
       "  <thead>\n",
       "    <tr style=\"text-align: right;\">\n",
       "      <th></th>\n",
       "      <th>step</th>\n",
       "      <th>amount</th>\n",
       "      <th>oldbalanceOrg</th>\n",
       "      <th>newbalanceOrig</th>\n",
       "      <th>oldbalanceDest</th>\n",
       "      <th>newbalanceDest</th>\n",
       "      <th>isFraud</th>\n",
       "    </tr>\n",
       "  </thead>\n",
       "  <tbody>\n",
       "    <tr>\n",
       "      <th>0</th>\n",
       "      <td>1</td>\n",
       "      <td>9839.64</td>\n",
       "      <td>170136.00</td>\n",
       "      <td>160296.36</td>\n",
       "      <td>0.00</td>\n",
       "      <td>0.00</td>\n",
       "      <td>0</td>\n",
       "    </tr>\n",
       "    <tr>\n",
       "      <th>1</th>\n",
       "      <td>1</td>\n",
       "      <td>1864.28</td>\n",
       "      <td>21249.00</td>\n",
       "      <td>19384.72</td>\n",
       "      <td>0.00</td>\n",
       "      <td>0.00</td>\n",
       "      <td>0</td>\n",
       "    </tr>\n",
       "    <tr>\n",
       "      <th>2</th>\n",
       "      <td>1</td>\n",
       "      <td>181.00</td>\n",
       "      <td>181.00</td>\n",
       "      <td>0.00</td>\n",
       "      <td>0.00</td>\n",
       "      <td>0.00</td>\n",
       "      <td>1</td>\n",
       "    </tr>\n",
       "    <tr>\n",
       "      <th>3</th>\n",
       "      <td>1</td>\n",
       "      <td>181.00</td>\n",
       "      <td>181.00</td>\n",
       "      <td>0.00</td>\n",
       "      <td>21182.00</td>\n",
       "      <td>0.00</td>\n",
       "      <td>1</td>\n",
       "    </tr>\n",
       "    <tr>\n",
       "      <th>4</th>\n",
       "      <td>1</td>\n",
       "      <td>11668.14</td>\n",
       "      <td>41554.00</td>\n",
       "      <td>29885.86</td>\n",
       "      <td>0.00</td>\n",
       "      <td>0.00</td>\n",
       "      <td>0</td>\n",
       "    </tr>\n",
       "    <tr>\n",
       "      <th>...</th>\n",
       "      <td>...</td>\n",
       "      <td>...</td>\n",
       "      <td>...</td>\n",
       "      <td>...</td>\n",
       "      <td>...</td>\n",
       "      <td>...</td>\n",
       "      <td>...</td>\n",
       "    </tr>\n",
       "    <tr>\n",
       "      <th>6362615</th>\n",
       "      <td>743</td>\n",
       "      <td>339682.13</td>\n",
       "      <td>339682.13</td>\n",
       "      <td>0.00</td>\n",
       "      <td>0.00</td>\n",
       "      <td>339682.13</td>\n",
       "      <td>1</td>\n",
       "    </tr>\n",
       "    <tr>\n",
       "      <th>6362616</th>\n",
       "      <td>743</td>\n",
       "      <td>6311409.28</td>\n",
       "      <td>6311409.28</td>\n",
       "      <td>0.00</td>\n",
       "      <td>0.00</td>\n",
       "      <td>0.00</td>\n",
       "      <td>1</td>\n",
       "    </tr>\n",
       "    <tr>\n",
       "      <th>6362617</th>\n",
       "      <td>743</td>\n",
       "      <td>6311409.28</td>\n",
       "      <td>6311409.28</td>\n",
       "      <td>0.00</td>\n",
       "      <td>68488.84</td>\n",
       "      <td>6379898.11</td>\n",
       "      <td>1</td>\n",
       "    </tr>\n",
       "    <tr>\n",
       "      <th>6362618</th>\n",
       "      <td>743</td>\n",
       "      <td>850002.52</td>\n",
       "      <td>850002.52</td>\n",
       "      <td>0.00</td>\n",
       "      <td>0.00</td>\n",
       "      <td>0.00</td>\n",
       "      <td>1</td>\n",
       "    </tr>\n",
       "    <tr>\n",
       "      <th>6362619</th>\n",
       "      <td>743</td>\n",
       "      <td>850002.52</td>\n",
       "      <td>850002.52</td>\n",
       "      <td>0.00</td>\n",
       "      <td>6510099.11</td>\n",
       "      <td>7360101.63</td>\n",
       "      <td>1</td>\n",
       "    </tr>\n",
       "  </tbody>\n",
       "</table>\n",
       "<p>6362620 rows × 7 columns</p>\n",
       "</div>"
      ],
      "text/plain": [
       "         step      amount  oldbalanceOrg  newbalanceOrig  oldbalanceDest  \\\n",
       "0           1     9839.64      170136.00       160296.36            0.00   \n",
       "1           1     1864.28       21249.00        19384.72            0.00   \n",
       "2           1      181.00         181.00            0.00            0.00   \n",
       "3           1      181.00         181.00            0.00        21182.00   \n",
       "4           1    11668.14       41554.00        29885.86            0.00   \n",
       "...       ...         ...            ...             ...             ...   \n",
       "6362615   743   339682.13      339682.13            0.00            0.00   \n",
       "6362616   743  6311409.28     6311409.28            0.00            0.00   \n",
       "6362617   743  6311409.28     6311409.28            0.00        68488.84   \n",
       "6362618   743   850002.52      850002.52            0.00            0.00   \n",
       "6362619   743   850002.52      850002.52            0.00      6510099.11   \n",
       "\n",
       "         newbalanceDest  isFraud  \n",
       "0                  0.00        0  \n",
       "1                  0.00        0  \n",
       "2                  0.00        1  \n",
       "3                  0.00        1  \n",
       "4                  0.00        0  \n",
       "...                 ...      ...  \n",
       "6362615       339682.13        1  \n",
       "6362616            0.00        1  \n",
       "6362617      6379898.11        1  \n",
       "6362618            0.00        1  \n",
       "6362619      7360101.63        1  \n",
       "\n",
       "[6362620 rows x 7 columns]"
      ]
     },
     "execution_count": 10,
     "metadata": {},
     "output_type": "execute_result"
    }
   ],
   "source": [
    "# Storing the DataFrame with numerical columns only for the histograms\n",
    "\n",
    "numerical_data = BankData.select_dtypes(include=['number'])\n",
    "numerical_data"
   ]
  },
  {
   "cell_type": "code",
   "execution_count": 11,
   "id": "47feeb5e",
   "metadata": {},
   "outputs": [],
   "source": [
    "# A function to remove outliers and plot histograms\n",
    "def plot_histogram_without_outliers(variable_name):\n",
    "    # Calculate the first (Q1) and third (Q3) quartiles\n",
    "    Q1 = numerical_data[variable_name].quantile(0.25)\n",
    "    Q3 = numerical_data[variable_name].quantile(0.75)\n",
    "    IQR = Q3 - Q1\n",
    "\n",
    "    # Determine outlier boundaries\n",
    "    lower_bound = Q1 - 1.5 * IQR\n",
    "    upper_bound = Q3 + 1.5 * IQR\n",
    "\n",
    "    # Filter the data to remove outliers\n",
    "    filtered_data = numerical_data[(numerical_data[variable_name] >= lower_bound) & \n",
    "                                    (numerical_data[variable_name] <= upper_bound)]\n",
    "    \n",
    "    # Create the histogram without outliers\n",
    "    plt.figure(figsize=(10, 6))\n",
    "    sns.histplot(filtered_data[variable_name], bins=30, kde=False, color='skyblue')\n",
    "\n",
    "    # Set the title and labels\n",
    "    plt.title(f'Distribution of {variable_name} (Without Outliers)', fontsize=16)\n",
    "    plt.xlabel(variable_name, fontsize=14)\n",
    "    plt.ylabel('Frequency', fontsize=14)\n",
    "\n",
    "    # Set y-axis to logarithmic scale for better readability\n",
    "    plt.yscale('log')\n",
    "\n",
    "    # Show grid lines for better visualization\n",
    "    plt.grid(axis='y', linestyle='--', alpha=0.7)\n",
    "\n",
    "    # Show the plot\n",
    "    plt.tight_layout()\n",
    "    plt.show()"
   ]
  },
  {
   "cell_type": "code",
   "execution_count": 12,
   "id": "62b88324",
   "metadata": {
    "scrolled": false
   },
   "outputs": [
    {
     "data": {
      "image/png": "[encoded data removed]",
      "text/plain": [
       "<Figure size 1000x600 with 1 Axes>"
      ]
     },
     "metadata": {},
     "output_type": "display_data"
    },
    {
     "data": {
      "image/png": "[encoded data removed]",
      "text/plain": [
       "<Figure size 1000x600 with 1 Axes>"
      ]
     },
     "metadata": {},
     "output_type": "display_data"
    },
    {
     "data": {
      "image/png": "[encoded data removed]",
      "text/plain": [
       "<Figure size 1000x600 with 1 Axes>"
      ]
     },
     "metadata": {},
     "output_type": "display_data"
    },
    {
     "data": {
      "image/png": "[encoded data removed]",
      "text/plain": [
       "<Figure size 1000x600 with 1 Axes>"
      ]
     },
     "metadata": {},
     "output_type": "display_data"
    },
    {
     "data": {
      "image/png": "[encoded data removed]",
      "text/plain": [
       "<Figure size 1000x600 with 1 Axes>"
      ]
     },
     "metadata": {},
     "output_type": "display_data"
    }
   ],
   "source": [
    "# Plot histograms for specified variables\n",
    "for var in ['amount','oldbalanceOrg', 'newbalanceOrig', 'oldbalanceDest', 'newbalanceDest']:\n",
    "    plot_histogram_without_outliers(var)"
   ]
  },
  {
   "cell_type": "markdown",
   "id": "087a368b",
   "metadata": {},
   "source": [
    "- The histograms illustrate the distribution of transactions after filtering out outliers.\n",
    "\n",
    "- The data exhibits a rightward skew, which indicates that while a significant portion of transactions is concentrated in smaller amounts, there are also transactions that reach much higher values, creating a long tail on the right side of the distribution.\n",
    "\n",
    "- The tallest bars on the left represent the most frequent transaction amounts, suggesting that the majority of transactions fall within a lower range. This behavior is common in financial data, where everyday transactions are typically smaller.\n",
    "\n",
    "- Although smaller amounts dominate the frequency, the presence of higher-value transactions, as illustrated by the tail, indicates a broad range in the dataset. This wide spread suggests that while the majority of transactions are relatively modest, a few large transactions significantly influence the overall distribution.\n",
    "\n",
    "- The use of a logarithmic scale on the y-axis enhances our ability to visualize the frequency of smaller amounts while still accommodating the large values that would otherwise skew the representation of the data."
   ]
  },
  {
   "cell_type": "markdown",
   "id": "1c6d7647",
   "metadata": {},
   "source": [
    "After conducting a preliminary analysis of the data through heatmaps and histograms, it's time to assess the necessary adjustments by examining duplicate values, data types, and any other potential issues"
   ]
  },
  {
   "cell_type": "markdown",
   "id": "fccdef5d",
   "metadata": {},
   "source": [
    "### 1.5.4 Duplicate Values <a id='1.5.4_Duplicate_values'></a>"
   ]
  },
  {
   "cell_type": "code",
   "execution_count": 13,
   "id": "9071d993",
   "metadata": {},
   "outputs": [
    {
     "data": {
      "text/plain": [
       "0"
      ]
     },
     "execution_count": 13,
     "metadata": {},
     "output_type": "execute_result"
    }
   ],
   "source": [
    "# Brief look at potential duplicate obeservations\n",
    "# Using .duplicated() and .sum() to find all duplicates, mark them as True, and sum the amount of True's \n",
    "\n",
    "BankData.duplicated(keep=False).sum()"
   ]
  },
  {
   "cell_type": "markdown",
   "id": "56d3bc3a",
   "metadata": {},
   "source": [
    "Examining duplicates in the synthetic data, we find that there are none. It's essential to remember that real-world data may not be this straightforward, as it can vary significantly based on data collection, extraction, and other factors."
   ]
  },
  {
   "cell_type": "markdown",
   "id": "f70c1af8",
   "metadata": {},
   "source": [
    "### 1.5.5 Dropping Columns <a id='1.5.5_Dropping_columns'></a>"
   ]
  },
  {
   "cell_type": "markdown",
   "id": "152520d4",
   "metadata": {},
   "source": [
    "Recall from the correlation review: 'The high correlations among balance variables suggest that we might want to drop one of the redundant features (e.g., either 'oldbalanceOrg' or 'newbalanceOrig'; similarly, we can apply this to 'oldbalanceDest' and 'newbalanceDest') to avoid multicollinearity.'\n",
    "\n",
    "In this section, we will apply that suggestion to reduce redundancy and the amount of data being processed."
   ]
  },
  {
   "cell_type": "code",
   "execution_count": 14,
   "id": "707c1b24",
   "metadata": {},
   "outputs": [],
   "source": [
    "# 'newbalanceOrig' can be calculated using 'amount' and 'oldbalanceOrg' so this can be dropped now.\n",
    "\n",
    "BankData.drop(columns='newbalanceOrig',inplace=True)"
   ]
  },
  {
   "cell_type": "markdown",
   "id": "ecf61fbd",
   "metadata": {},
   "source": [
    "'oldbalanceDest' and 'newbalanceDest' need further analysis to determine if either can be dropped. These columns are more complex due to merchant transactions with limited data, but even zero values may still indicate potential fraud."
   ]
  },
  {
   "cell_type": "markdown",
   "id": "1ce4a464",
   "metadata": {},
   "source": [
    "### 1.5.6 Imputation <a id='1.5.6_Imputation'></a>"
   ]
  },
  {
   "cell_type": "markdown",
   "id": "623b2a43",
   "metadata": {},
   "source": [
    "N/A - There is no missing information in the synthetic dataset. "
   ]
  },
  {
   "cell_type": "markdown",
   "id": "acd3f02d",
   "metadata": {},
   "source": [
    "### 1.5.7 Data Type Conversions <a id='1.5.7_Conversion'></a>"
   ]
  },
  {
   "cell_type": "code",
   "execution_count": 15,
   "id": "03960187",
   "metadata": {},
   "outputs": [
    {
     "name": "stdout",
     "output_type": "stream",
     "text": [
      "<class 'pandas.core.frame.DataFrame'>\n",
      "RangeIndex: 6362620 entries, 0 to 6362619\n",
      "Data columns (total 9 columns):\n",
      " #   Column          Dtype  \n",
      "---  ------          -----  \n",
      " 0   step            int64  \n",
      " 1   type            object \n",
      " 2   amount          float64\n",
      " 3   nameOrig        object \n",
      " 4   oldbalanceOrg   float64\n",
      " 5   nameDest        object \n",
      " 6   oldbalanceDest  float64\n",
      " 7   newbalanceDest  float64\n",
      " 8   isFraud         int64  \n",
      "dtypes: float64(4), int64(2), object(3)\n",
      "memory usage: 436.9+ MB\n"
     ]
    }
   ],
   "source": [
    "BankData.info()"
   ]
  },
  {
   "cell_type": "markdown",
   "id": "4faada1b",
   "metadata": {},
   "source": [
    "All columns are in the correct data type so need to convert at this time. "
   ]
  },
  {
   "cell_type": "markdown",
   "id": "40a1a42f",
   "metadata": {},
   "source": [
    "### 1.5.8 Misc Data Issues & Notes <a id='1.5.8_Data_Notes'></a>"
   ]
  },
  {
   "cell_type": "markdown",
   "id": "1641d3bb",
   "metadata": {},
   "source": [
    "Just a note to consider — the 'oldbalanceDest' and 'newbalanceDest' columns don’t always reflect exact changes in the destination account balances. This will need further investigation to understand any discrepancies.\n",
    "\n",
    "A few reasons why this may be:\n",
    "\n",
    "1. Partial Transactions:\n",
    "In some systems, not all transactions are reflected in account balances, or only part of the transaction is applied. This might happen if the system is processing fees, holds, or partial settlements.\n",
    "2. Failed or Reversed Transactions:\n",
    "Some transactions may be initiated but then fail or get reversed, causing a discrepancy between the actual transaction amount and the balance updates. In this case, the old and new balances may not reflect the full amount expected.\n",
    "3. Pending Transactions:\n",
    "The balances may not be updated in real time. In certain systems, there could be a lag or delay in when the transaction occurs and when the account balance is updated. This could lead to temporary discrepancies between the old and new balances.\n",
    "4. Intermediary Accounts:\n",
    "Some transactions may involve intermediary accounts (e.g., holding or clearing accounts) where the full amount is not reflected directly in the destination account. This can result in only partial or zero updates to the destination balance.\n",
    "5. Merchant Transactions:\n",
    "If you're dealing with merchant transactions, the destination balances could reflect more complex flows, such as split payments, transfers to multiple accounts, or partial refunds, which may not show in a simple subtraction between the old and new balance fields.\n",
    "6. Fraudulent Transactions:\n",
    "If fraud is involved, there may be deliberate tampering with balances to hide illegal activities. Fraudulent transactions can lead to anomalies in the recorded balances.\n",
    "7. Transaction Fees:\n",
    "The destination account balance might not change by the full amount due to transaction fees or deductions taken by the payment processor.\n",
    "8. Currency Conversion:\n",
    "If different currencies are involved, conversion rates could result in the destination balance being different than expected after a transaction."
   ]
  },
  {
   "cell_type": "markdown",
   "id": "8a1099cf",
   "metadata": {},
   "source": [
    "## 1.6 A Look Into Categorical Features <a id='1.6_Categorical_Features'></a>"
   ]
  },
  {
   "cell_type": "code",
   "execution_count": 16,
   "id": "ffc453d0",
   "metadata": {},
   "outputs": [
    {
     "data": {
      "text/html": [
       "<div>\n",
       "<style scoped>\n",
       "    .dataframe tbody tr th:only-of-type {\n",
       "        vertical-align: middle;\n",
       "    }\n",
       "\n",
       "    .dataframe tbody tr th {\n",
       "        vertical-align: top;\n",
       "    }\n",
       "\n",
       "    .dataframe thead th {\n",
       "        text-align: right;\n",
       "    }\n",
       "</style>\n",
       "<table border=\"1\" class=\"dataframe\">\n",
       "  <thead>\n",
       "    <tr style=\"text-align: right;\">\n",
       "      <th></th>\n",
       "      <th>type</th>\n",
       "      <th>nameOrig</th>\n",
       "      <th>nameDest</th>\n",
       "    </tr>\n",
       "  </thead>\n",
       "  <tbody>\n",
       "    <tr>\n",
       "      <th>0</th>\n",
       "      <td>PAYMENT</td>\n",
       "      <td>C1231006815</td>\n",
       "      <td>M1979787155</td>\n",
       "    </tr>\n",
       "    <tr>\n",
       "      <th>1</th>\n",
       "      <td>PAYMENT</td>\n",
       "      <td>C1666544295</td>\n",
       "      <td>M2044282225</td>\n",
       "    </tr>\n",
       "    <tr>\n",
       "      <th>2</th>\n",
       "      <td>TRANSFER</td>\n",
       "      <td>C1305486145</td>\n",
       "      <td>C553264065</td>\n",
       "    </tr>\n",
       "    <tr>\n",
       "      <th>3</th>\n",
       "      <td>CASH_OUT</td>\n",
       "      <td>C840083671</td>\n",
       "      <td>C38997010</td>\n",
       "    </tr>\n",
       "    <tr>\n",
       "      <th>4</th>\n",
       "      <td>PAYMENT</td>\n",
       "      <td>C2048537720</td>\n",
       "      <td>M1230701703</td>\n",
       "    </tr>\n",
       "    <tr>\n",
       "      <th>...</th>\n",
       "      <td>...</td>\n",
       "      <td>...</td>\n",
       "      <td>...</td>\n",
       "    </tr>\n",
       "    <tr>\n",
       "      <th>6362615</th>\n",
       "      <td>CASH_OUT</td>\n",
       "      <td>C786484425</td>\n",
       "      <td>C776919290</td>\n",
       "    </tr>\n",
       "    <tr>\n",
       "      <th>6362616</th>\n",
       "      <td>TRANSFER</td>\n",
       "      <td>C1529008245</td>\n",
       "      <td>C1881841831</td>\n",
       "    </tr>\n",
       "    <tr>\n",
       "      <th>6362617</th>\n",
       "      <td>CASH_OUT</td>\n",
       "      <td>C1162922333</td>\n",
       "      <td>C1365125890</td>\n",
       "    </tr>\n",
       "    <tr>\n",
       "      <th>6362618</th>\n",
       "      <td>TRANSFER</td>\n",
       "      <td>C1685995037</td>\n",
       "      <td>C2080388513</td>\n",
       "    </tr>\n",
       "    <tr>\n",
       "      <th>6362619</th>\n",
       "      <td>CASH_OUT</td>\n",
       "      <td>C1280323807</td>\n",
       "      <td>C873221189</td>\n",
       "    </tr>\n",
       "  </tbody>\n",
       "</table>\n",
       "<p>6362620 rows × 3 columns</p>\n",
       "</div>"
      ],
      "text/plain": [
       "             type     nameOrig     nameDest\n",
       "0         PAYMENT  C1231006815  M1979787155\n",
       "1         PAYMENT  C1666544295  M2044282225\n",
       "2        TRANSFER  C1305486145   C553264065\n",
       "3        CASH_OUT   C840083671    C38997010\n",
       "4         PAYMENT  C2048537720  M1230701703\n",
       "...           ...          ...          ...\n",
       "6362615  CASH_OUT   C786484425   C776919290\n",
       "6362616  TRANSFER  C1529008245  C1881841831\n",
       "6362617  CASH_OUT  C1162922333  C1365125890\n",
       "6362618  TRANSFER  C1685995037  C2080388513\n",
       "6362619  CASH_OUT  C1280323807   C873221189\n",
       "\n",
       "[6362620 rows x 3 columns]"
      ]
     },
     "execution_count": 16,
     "metadata": {},
     "output_type": "execute_result"
    }
   ],
   "source": [
    "# Storing the DataFrame with categorical columns only for further exploration\n",
    "categorical_data = BankData.select_dtypes(include=['object'])\n",
    "categorical_data"
   ]
  },
  {
   "cell_type": "code",
   "execution_count": 17,
   "id": "02c83b28",
   "metadata": {},
   "outputs": [
    {
     "data": {
      "text/plain": [
       "type              5\n",
       "nameOrig    6353307\n",
       "nameDest    2722362\n",
       "dtype: int64"
      ]
     },
     "execution_count": 17,
     "metadata": {},
     "output_type": "execute_result"
    }
   ],
   "source": [
    "# a look into the unique values in the categorical variables\n",
    "categorical_data.nunique()"
   ]
  },
  {
   "cell_type": "markdown",
   "id": "58fc0641",
   "metadata": {},
   "source": [
    "The dataset contains three categorical columns with the following unique counts:\n",
    "\n",
    "- type: This column has 5 unique transaction types.\n",
    "- nameOrig: There are 6,353,307 unique origin account names, indicating that nearly every transaction comes from a different account.\n",
    "- nameDest: There are 2,722,362 unique destination account names, suggesting that many accounts receive multiple transactions."
   ]
  },
  {
   "cell_type": "markdown",
   "id": "b6d584b7",
   "metadata": {},
   "source": [
    "### 1.6.1 Encoding <a id='1.6.1_Encoding'></a>"
   ]
  },
  {
   "cell_type": "markdown",
   "id": "f695c777",
   "metadata": {},
   "source": [
    "Since there are only 5 types of transactions, the best approach for this variable would be 'One-Hot Encoding' or 'Labe Encoding'. Since 'nameOrig' and 'nameDest' have a high number of unique values, a more advanced technique would need to be applied which can be determined as the modelling approach is decided. "
   ]
  },
  {
   "cell_type": "markdown",
   "id": "c1a8c6b2",
   "metadata": {},
   "source": [
    "## 1.7 A Look Into Numerical Features <a id='1.7_Numerical_Features'></a> "
   ]
  },
  {
   "cell_type": "markdown",
   "id": "25e41a97",
   "metadata": {},
   "source": [
    "In section 1.5.3, histograms were used to visualize and review the numerical features. This section serves as a continuation, providing a deeper exploration to better understand the information and gain further insights into the numerical data."
   ]
  },
  {
   "cell_type": "markdown",
   "id": "756e8b95",
   "metadata": {},
   "source": [
    "### 1.7.1 Outliers <a id='1.7.1_Outliers'></a>"
   ]
  },
  {
   "cell_type": "code",
   "execution_count": 18,
   "id": "e124307a",
   "metadata": {},
   "outputs": [
    {
     "name": "stdout",
     "output_type": "stream",
     "text": [
      "Percentage of outliers per column:\n",
      "amount             5.313503\n",
      "oldbalanceOrg     17.485045\n",
      "newbalanceOrig    16.555931\n",
      "oldbalanceDest    12.355523\n",
      "newbalanceDest    11.607278\n",
      "dtype: float64\n"
     ]
    }
   ],
   "source": [
    "# Drop 'step' and 'isFraud' columns\n",
    "numerical_data_filtered = numerical_data.drop(columns=['step', 'isFraud'])\n",
    "\n",
    "# Calculate Q1, Q3, and IQR\n",
    "Q1 = numerical_data_filtered.quantile(0.25)\n",
    "Q3 = numerical_data_filtered.quantile(0.75)\n",
    "IQR = Q3 - Q1\n",
    "\n",
    "# Define the lower and upper bounds for outliers\n",
    "lower_bound = Q1 - 1.5 * IQR\n",
    "upper_bound = Q3 + 1.5 * IQR\n",
    "\n",
    "# Detect outliers\n",
    "outliers = ((numerical_data_filtered < lower_bound) | (numerical_data_filtered > upper_bound))\n",
    "\n",
    "# Summarize the count of outliers per column\n",
    "outliers_count = outliers.sum()\n",
    "\n",
    "# Calculate the percentage of outliers\n",
    "outliers_percentage = (outliers_count / len(numerical_data_filtered)) * 100\n",
    "\n",
    "# Print out the percentage of outliers\n",
    "print(\"Percentage of outliers per column:\")\n",
    "print(outliers_percentage)\n",
    "\n",
    "\n"
   ]
  },
  {
   "cell_type": "markdown",
   "id": "bc80a455",
   "metadata": {},
   "source": [
    "This analysis identified outliers in the numerical features of the dataset using the Interquartile Range (IQR) method. Outliers are values that fall significantly outside the expected range (below Q1 - 1.5 * IQR or above Q3 + 1.5 * IQR), and they are important for detecting extreme behaviors, such as potential fraud.\n",
    "\n",
    "- oldbalanceOrg and newbalanceOrig have the highest percentage of outliers, suggesting large balance changes during transactions. These outliers may indicate significant events, such as large deposits or withdrawals, and should be explored further to determine whether they are consistent with expected behaviors or if they could signal potential fraud or unusual activity.\n",
    "\n",
    "- amount also shows a noticeable percentage of outliers (5.31%). Depending on the analysis objective (e.g., fraud detection or identifying high-value transactions), these outliers might require closer inspection, as high transaction amounts could be pivotal in understanding patterns of fraud or large transfers.\n",
    "\n",
    "- oldbalanceDest and newbalanceDest contain outliers in around 12% of the data. This suggests that certain destination accounts are showing extreme balance values, either high or low. These cases should be further investigated to understand the underlying cause of such large variations and determine if they align with typical transaction behavior."
   ]
  },
  {
   "cell_type": "markdown",
   "id": "473e1532",
   "metadata": {},
   "source": [
    "### 1.7.2 Normalization/Standardization <a id='1.7.2_Normalization_Standardization'></a>"
   ]
  },
  {
   "cell_type": "code",
   "execution_count": 19,
   "id": "2804883d",
   "metadata": {},
   "outputs": [
    {
     "data": {
      "text/html": [
       "<div>\n",
       "<style scoped>\n",
       "    .dataframe tbody tr th:only-of-type {\n",
       "        vertical-align: middle;\n",
       "    }\n",
       "\n",
       "    .dataframe tbody tr th {\n",
       "        vertical-align: top;\n",
       "    }\n",
       "\n",
       "    .dataframe thead th {\n",
       "        text-align: right;\n",
       "    }\n",
       "</style>\n",
       "<table border=\"1\" class=\"dataframe\">\n",
       "  <thead>\n",
       "    <tr style=\"text-align: right;\">\n",
       "      <th></th>\n",
       "      <th>step</th>\n",
       "      <th>amount</th>\n",
       "      <th>oldbalanceOrg</th>\n",
       "      <th>newbalanceOrig</th>\n",
       "      <th>oldbalanceDest</th>\n",
       "      <th>newbalanceDest</th>\n",
       "      <th>isFraud</th>\n",
       "    </tr>\n",
       "  </thead>\n",
       "  <tbody>\n",
       "    <tr>\n",
       "      <th>count</th>\n",
       "      <td>6.362620e+06</td>\n",
       "      <td>6.362620e+06</td>\n",
       "      <td>6.362620e+06</td>\n",
       "      <td>6.362620e+06</td>\n",
       "      <td>6.362620e+06</td>\n",
       "      <td>6.362620e+06</td>\n",
       "      <td>6.362620e+06</td>\n",
       "    </tr>\n",
       "    <tr>\n",
       "      <th>mean</th>\n",
       "      <td>2.433972e+02</td>\n",
       "      <td>1.798619e+05</td>\n",
       "      <td>8.338831e+05</td>\n",
       "      <td>8.551137e+05</td>\n",
       "      <td>1.100702e+06</td>\n",
       "      <td>1.224996e+06</td>\n",
       "      <td>1.290820e-03</td>\n",
       "    </tr>\n",
       "    <tr>\n",
       "      <th>std</th>\n",
       "      <td>1.423320e+02</td>\n",
       "      <td>6.038582e+05</td>\n",
       "      <td>2.888243e+06</td>\n",
       "      <td>2.924049e+06</td>\n",
       "      <td>3.399180e+06</td>\n",
       "      <td>3.674129e+06</td>\n",
       "      <td>3.590480e-02</td>\n",
       "    </tr>\n",
       "    <tr>\n",
       "      <th>min</th>\n",
       "      <td>1.000000e+00</td>\n",
       "      <td>0.000000e+00</td>\n",
       "      <td>0.000000e+00</td>\n",
       "      <td>0.000000e+00</td>\n",
       "      <td>0.000000e+00</td>\n",
       "      <td>0.000000e+00</td>\n",
       "      <td>0.000000e+00</td>\n",
       "    </tr>\n",
       "    <tr>\n",
       "      <th>25%</th>\n",
       "      <td>1.560000e+02</td>\n",
       "      <td>1.338957e+04</td>\n",
       "      <td>0.000000e+00</td>\n",
       "      <td>0.000000e+00</td>\n",
       "      <td>0.000000e+00</td>\n",
       "      <td>0.000000e+00</td>\n",
       "      <td>0.000000e+00</td>\n",
       "    </tr>\n",
       "    <tr>\n",
       "      <th>50%</th>\n",
       "      <td>2.390000e+02</td>\n",
       "      <td>7.487194e+04</td>\n",
       "      <td>1.420800e+04</td>\n",
       "      <td>0.000000e+00</td>\n",
       "      <td>1.327057e+05</td>\n",
       "      <td>2.146614e+05</td>\n",
       "      <td>0.000000e+00</td>\n",
       "    </tr>\n",
       "    <tr>\n",
       "      <th>75%</th>\n",
       "      <td>3.350000e+02</td>\n",
       "      <td>2.087215e+05</td>\n",
       "      <td>1.073152e+05</td>\n",
       "      <td>1.442584e+05</td>\n",
       "      <td>9.430367e+05</td>\n",
       "      <td>1.111909e+06</td>\n",
       "      <td>0.000000e+00</td>\n",
       "    </tr>\n",
       "    <tr>\n",
       "      <th>max</th>\n",
       "      <td>7.430000e+02</td>\n",
       "      <td>9.244552e+07</td>\n",
       "      <td>5.958504e+07</td>\n",
       "      <td>4.958504e+07</td>\n",
       "      <td>3.560159e+08</td>\n",
       "      <td>3.561793e+08</td>\n",
       "      <td>1.000000e+00</td>\n",
       "    </tr>\n",
       "  </tbody>\n",
       "</table>\n",
       "</div>"
      ],
      "text/plain": [
       "               step        amount  oldbalanceOrg  newbalanceOrig  \\\n",
       "count  6.362620e+06  6.362620e+06   6.362620e+06    6.362620e+06   \n",
       "mean   2.433972e+02  1.798619e+05   8.338831e+05    8.551137e+05   \n",
       "std    1.423320e+02  6.038582e+05   2.888243e+06    2.924049e+06   \n",
       "min    1.000000e+00  0.000000e+00   0.000000e+00    0.000000e+00   \n",
       "25%    1.560000e+02  1.338957e+04   0.000000e+00    0.000000e+00   \n",
       "50%    2.390000e+02  7.487194e+04   1.420800e+04    0.000000e+00   \n",
       "75%    3.350000e+02  2.087215e+05   1.073152e+05    1.442584e+05   \n",
       "max    7.430000e+02  9.244552e+07   5.958504e+07    4.958504e+07   \n",
       "\n",
       "       oldbalanceDest  newbalanceDest       isFraud  \n",
       "count    6.362620e+06    6.362620e+06  6.362620e+06  \n",
       "mean     1.100702e+06    1.224996e+06  1.290820e-03  \n",
       "std      3.399180e+06    3.674129e+06  3.590480e-02  \n",
       "min      0.000000e+00    0.000000e+00  0.000000e+00  \n",
       "25%      0.000000e+00    0.000000e+00  0.000000e+00  \n",
       "50%      1.327057e+05    2.146614e+05  0.000000e+00  \n",
       "75%      9.430367e+05    1.111909e+06  0.000000e+00  \n",
       "max      3.560159e+08    3.561793e+08  1.000000e+00  "
      ]
     },
     "execution_count": 19,
     "metadata": {},
     "output_type": "execute_result"
    }
   ],
   "source": [
    "numerical_data.describe()"
   ]
  },
  {
   "cell_type": "markdown",
   "id": "097ba2fb",
   "metadata": {},
   "source": [
    "- Features like amount, oldbalanceOrg, newbalanceOrig, oldbalanceDest, and newbalanceDest have large differences in values. To make them comparable, consider normalizing (scaling between 0 and 1) or standardizing (scaling to a mean of 0) these features.\n",
    "\n",
    "\n",
    "- Features like oldbalanceOrg and newbalanceOrig have many zeros. These could either mean no balance change or missing data. Check if these zeros are meaningful or if they need to be adjusted.\n",
    "\n",
    "- Some features like amount and balances might be skewed (not symmetrical). A log transformation can help make the data more balanced and suitable for certain models.\n",
    "\n",
    "- Handle Imbalanced Target (isFraud): The isFraud column is imbalanced (few fraud cases). This could affect how the model learns, so it’s important to adjust for this imbalance during model training.\n",
    "    - The mean of 0.00129 suggests that the class of fraud (1) is very rare.\n",
    "\n",
    "- Features like amount and balances have outliers (extreme values). These should be checked to decide whether they should be kept, adjusted, or removed based on their impact."
   ]
  },
  {
   "cell_type": "markdown",
   "id": "e4c21dd8",
   "metadata": {},
   "source": [
    "### 1.7.3 Target Feature <a id='1.7.3_Target_Feature'></a>"
   ]
  },
  {
   "cell_type": "code",
   "execution_count": 20,
   "id": "4fbb551f",
   "metadata": {},
   "outputs": [
    {
     "data": {
      "image/png": "[encoded data removed]",
      "text/plain": [
       "<Figure size 600x400 with 1 Axes>"
      ]
     },
     "metadata": {},
     "output_type": "display_data"
    }
   ],
   "source": [
    "# Plotting the distribution of the 'isFraud' column\n",
    "plt.figure(figsize=(6,4))\n",
    "sns.countplot(data=BankData, x='isFraud', palette='Set2')\n",
    "\n",
    "# Adding labels and title\n",
    "plt.title('Distribution of Fraudulent vs Non-Fraudulent Transactions')\n",
    "plt.xlabel('Fraud Status (0: Non-Fraud, 1: Fraud)')\n",
    "plt.ylabel('Count')\n",
    "plt.xticks([0, 1], ['Non-Fraud', 'Fraud'])\n",
    "\n",
    "# Show the plot\n",
    "plt.show()"
   ]
  },
  {
   "cell_type": "markdown",
   "id": "15a79758",
   "metadata": {},
   "source": [
    "The isFraud column shows very few fraud cases (1s) compared to non-fraud (0s).\n",
    "\n",
    "Why this matters:\n",
    "Imbalanced Classes: A dataset with such a low percentage of fraud cases (the minority class) can cause problems for most machine learning algorithms, which are biased towards predicting the majority class (non-fraudulent transactions). This can lead to poor model performance in identifying fraud.\n",
    "\n",
    "Accuracy: A model that predicts only non-fraudulent transactions could still have high accuracy because of the large number of non-fraudulent cases. However, this would be misleading, as the model wouldn't actually be detecting fraud.\n",
    "Evaluation Metrics: You would need to use metrics other than accuracy, such as precision, recall, F1-score, or AUC-ROC, which give more insight into how well the model is identifying fraud.\n",
    "\n",
    "Potential Next Steps:\n",
    "\n",
    "Given that isFraud is highly imbalanced, the following techniques will be considered:\n",
    "\n",
    "- Resampling (e.g., SMOTE or undersampling) to balance the classes.\n",
    "- Class weights in the model to give more importance to the fraud class.\n",
    "- Use alternative evaluation metrics like precision, recall, F1-score, and AUC-ROC to get a more accurate picture of the model’s performance in detecting fraud."
   ]
  },
  {
   "cell_type": "markdown",
   "id": "2d3cfb50",
   "metadata": {},
   "source": [
    "## 1.8 Save the Data <a id='1.8_Save_data'></a>\n"
   ]
  },
  {
   "cell_type": "code",
   "execution_count": 23,
   "id": "f44b4410",
   "metadata": {},
   "outputs": [],
   "source": [
    "# Storing file path \n",
    "OutputFilePath = \"/Users/frankyaraujo/Development/Data_Science_Projects/Detecting_Bank_Fraud/data/interim\"\n",
    "# Storing filename\n",
    "OutputFilename = \"/Fraud_V2.csv\"\n",
    "\n",
    "# Save the DataFrame to CSV\n",
    "BankData.to_csv(OutputFilePath + OutputFilename, index=False)"
   ]
  },
  {
   "cell_type": "markdown",
   "id": "b73544b9",
   "metadata": {},
   "source": [
    "## 1.9 Summary <a id='1.9_Summary'></a>\n"
   ]
  },
  {
   "cell_type": "markdown",
   "id": "fda90de8",
   "metadata": {},
   "source": [
    "In this notebook, we explored a dataset simulating fraudulent transactions and analyzed various features that contribute to detecting fraud. Here’s a summary of key findings and the next steps:\n",
    "\n",
    "Data Overview\n",
    "- The dataset includes five types of transactions: CASH-IN, CASH-OUT, DEBIT, PAYMENT, and TRANSFER, each representing different activities related to account balances.\n",
    "- The dataset captures balances before and after transactions for both the origin and destination accounts, along with the transaction amount.\n",
    "Fraud Detection: The target variable, isFraud, identifies fraudulent transactions, with a very small proportion of positive cases (fraudulent transactions), highlighting a class imbalance.\n",
    "\n",
    "Feature Analysis\n",
    "- The correlation between isFraud and other features, like amount, is low, indicating only a weak relationship. However, amount shows a moderate correlation with destination balances, suggesting that larger transactions tend to lead to higher balances in the destination accounts.\n",
    "- High correlations between features like oldbalanceOrg and newbalanceOrig (0.9988) suggest redundancy, and similar correlations exist for oldbalanceDest and newbalanceDest. This redundancy may lead to multicollinearity, warranting the consideration of dropping some features during modeling.\n",
    "- Outliers were detected using the IQR method. The most significant outliers appear in balance-related features and transaction amounts, potentially signaling significant events or fraudulent activities that need further investigation.\n",
    "- The transaction amounts are right-skewed, with most transactions being small, but the presence of higher-value transactions creates a long tail. This skewness may require transformation (e.g., logarithmic scaling) to normalize the data for machine learning models.\n",
    "\n",
    "Target Variable - isFraud\n",
    "- The isFraud column shows a severe imbalance, with fraud cases constituting only about 0.13% of all transactions. This imbalance is a critical consideration for model development, as most algorithms tend to favor the majority class (non-fraudulent transactions).\n",
    "- Due to the low occurrence of fraud cases, traditional evaluation metrics like accuracy are not sufficient. Alternative metrics such as precision, recall, F1-score, and AUC-ROC should be used to evaluate the model’s ability to detect fraud.\n",
    "\n",
    "Potential Next Steps\n",
    "- Given the severe imbalance in the isFraud class, techniques such as SMOTE (Synthetic Minority Over-sampling Technique) or undersampling will be considered to balance the classes.\n",
    "- Additional transformations may include handling zeros in balance features, log transformations to address skewness, and creating new features that capture interactions between existing variables.\n",
    "- Redundant features, particularly those related to account balances (oldbalanceOrg, newbalanceOrig, etc.), may be dropped or combined to reduce multicollinearity and improve model performance.\n",
    "- Outliers in transaction amounts and balances will be carefully evaluated to determine if they are valid extreme values or should be adjusted to enhance model robustness.\n",
    "- The high imbalance of the target variable suggests that we should focus on models that can handle imbalanced data, such as decision trees or ensemble methods with adjusted class weights.\n",
    "\n",
    "By addressing the class imbalance, outliers, and feature redundancies, and selecting appropriate evaluation metrics, we can develop a model that is better suited for detecting fraudulent transactions."
   ]
  }
 ],
 "metadata": {
  "kernelspec": {
   "display_name": "Python 3 (ipykernel)",
   "language": "python",
   "name": "python3"
  },
  "language_info": {
   "codemirror_mode": {
    "name": "ipython",
    "version": 3
   },
   "file_extension": ".py",
   "mimetype": "text/x-python",
   "name": "python",
   "nbconvert_exporter": "python",
   "pygments_lexer": "ipython3",
   "version": "3.10.13"
  }
 },
 "nbformat": 4,
 "nbformat_minor": 5
}
